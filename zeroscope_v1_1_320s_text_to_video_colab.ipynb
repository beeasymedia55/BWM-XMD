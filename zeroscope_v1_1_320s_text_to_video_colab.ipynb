{
  "cells": [
    {
      "cell_type": "markdown",
      "metadata": {
        "id": "view-in-github",
        "colab_type": "text"
      },
      "source": [
        "<a href=\"https://colab.research.google.com/github/beeasymedia55/BWM-XMD/blob/main/zeroscope_v1_1_320s_text_to_video_colab.ipynb\" target=\"_parent\"><img src=\"https://colab.research.google.com/assets/colab-badge.svg\" alt=\"Open In Colab\"/></a>"
      ]
    },
    {
      "cell_type": "code",
      "execution_count": 4,
      "metadata": {
        "id": "cqo7g4p2_V78",
        "outputId": "274fe98a-301b-483c-be3b-ddb159425b49",
        "colab": {
          "base_uri": "https://localhost:8080/"
        }
      },
      "outputs": [
        {
          "output_type": "stream",
          "name": "stdout",
          "text": [
            "[Errno 2] No such file or directory: '/content/Text-To-Video-Finetuning'\n",
            "/content\n",
            "[Errno 2] No such file or directory: '/content/Text-To-Video-Finetuning'\n",
            "/content\n",
            "python3: can't open file '/content/inference.py': [Errno 2] No such file or directory\n"
          ]
        }
      ],
      "source": [
        "%cd /content/Text-To-Video-Finetuning\n",
        "# while True:\n",
        "prompt = \"shark in a lake\" #@param {type:\"string\"}\n",
        "negative = \"\" #@param {type:\"string\"}\n",
        "prompt = f\"\\\"{prompt}\\\"\"\n",
        "negative = f\"\\\"{negative}\\\"\"\n",
        "num_steps = 33 #@param {type:\"raw\"}\n",
        "guidance_scale = 23 #@param {type:\"raw\"}\n",
        "%cd /content/Text-To-Video-Finetuning\n",
        "# while True:\n",
        "prompt = \"shark in a lake\" #@param {type:\"string\"}\n",
        "negative = \"\" #@param {type:\"string\"}\n",
        "prompt = f\"\\\"{prompt}\\\"\"\n",
        "negative = f\"\\\"{negative}\\\"\"\n",
        "num_steps = 33 #@param {type:\"raw\"}\n",
        "guidance_scale = 23 #@param {type:\"raw\"}\n",
        "fps = 30 #@param {type:\"raw\"}\n",
        "num_frames = 24 #@param {type:\"raw\"}\n",
        "!python inference.py -m \"/content/zeroscope_v1-1_320s\" -p {prompt} -n {negative} -W 320 -H 320 -o /content/outputs -d cuda -x -s {num_steps} -g {guidance_scale} -f {fps} -T {num_frames}"
      ]
    },
    {
      "cell_type": "code",
      "source": [],
      "metadata": {
        "id": "xlO8ofPK9fQk"
      },
      "execution_count": null,
      "outputs": []
    },
    {
      "cell_type": "code",
      "execution_count": null,
      "metadata": {
        "id": "n2ibl97e2yM4"
      },
      "outputs": [],
      "source": [
        "%cd /content\n",
        "!pip install -q torch==1.13.1+cu116 torchvision==0.14.1+cu116 torchaudio==0.13.1 torchtext==0.14.1 torchdata==0.5.1 --extra-index-url https://download.pytorch.org/whl/cu116 -U\n",
        "!pip install diffusers==0.19.0 transformers accelerate imageio[ffmpeg] -U einops omegaconf decord xformers==0.0.16 safetensors\n",
        "!git clone -b dev https://github.com/camenduru/Text-To-Video-Finetuning\n",
        "!git clone https://huggingface.co/cerspense/zeroscope_v1-1_320s"
      ]
    }
  ],
  "metadata": {
    "accelerator": "GPU",
    "colab": {
      "provenance": [],
      "include_colab_link": true
    },
    "gpuClass": "standard",
    "kernelspec": {
      "display_name": "Python 3",
      "name": "python3"
    },
    "language_info": {
      "name": "python"
    }
  },
  "nbformat": 4,
  "nbformat_minor": 0
}